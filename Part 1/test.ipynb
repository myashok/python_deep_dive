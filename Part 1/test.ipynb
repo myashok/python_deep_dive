{
 "cells": [
  {
   "cell_type": "code",
   "execution_count": 2,
   "metadata": {},
   "outputs": [
    {
     "data": {
      "text/plain": [
       "{'__name__': '__main__',\n",
       " '__doc__': 'Automatically created module for IPython interactive environment',\n",
       " '__package__': None,\n",
       " '__loader__': None,\n",
       " '__spec__': None,\n",
       " '__builtin__': <module 'builtins' (built-in)>,\n",
       " '__builtins__': <module 'builtins' (built-in)>,\n",
       " '_ih': ['', 'a = 10\\nglobals()', \"a = 10\\nsf = 'sdfsdf'\\nglobals()\"],\n",
       " '_oh': {1: {...}},\n",
       " '_dh': [PosixPath('/Users/shivpratap/Documents/workspace/python-deepdive/Part 1'),\n",
       "  PosixPath('/Users/shivpratap/Documents/workspace/python-deepdive/Part 1')],\n",
       " 'In': ['', 'a = 10\\nglobals()', \"a = 10\\nsf = 'sdfsdf'\\nglobals()\"],\n",
       " 'Out': {1: {...}},\n",
       " 'get_ipython': <bound method InteractiveShell.get_ipython of <ipykernel.zmqshell.ZMQInteractiveShell object at 0x103624f40>>,\n",
       " 'exit': <IPython.core.autocall.ZMQExitAutocall at 0x103636880>,\n",
       " 'quit': <IPython.core.autocall.ZMQExitAutocall at 0x103636880>,\n",
       " 'open': <function io.open(file, mode='r', buffering=-1, encoding=None, errors=None, newline=None, closefd=True, opener=None)>,\n",
       " '_': {...},\n",
       " '__': '',\n",
       " '___': '',\n",
       " '__vsc_ipynb_file__': '/Users/shivpratap/Documents/workspace/python-deepdive/Part 1/test.ipynb',\n",
       " '_i': 'a = 10\\nglobals()',\n",
       " '_ii': '',\n",
       " '_iii': '',\n",
       " '_i1': 'a = 10\\nglobals()',\n",
       " 'a': 10,\n",
       " '_1': {...},\n",
       " '_i2': \"a = 10\\nsf = 'sdfsdf'\\nglobals()\",\n",
       " 'sf': 'sdfsdf'}"
      ]
     },
     "execution_count": 2,
     "metadata": {},
     "output_type": "execute_result"
    }
   ],
   "source": [
    "a = 10\n",
    "sf = 'sdfsdf'\n",
    "globals()"
   ]
  },
  {
   "cell_type": "code",
   "execution_count": 38,
   "metadata": {},
   "outputs": [
    {
     "name": "stdout",
     "output_type": "stream",
     "text": [
      "b sheome it does ()\n",
      "b sheome it does ()\n",
      "1\n",
      "2\n"
     ]
    }
   ],
   "source": [
    "   "
   ]
  },
  {
   "cell_type": "code",
   "execution_count": null,
   "metadata": {},
   "outputs": [],
   "source": []
  }
 ],
 "metadata": {
  "kernelspec": {
   "display_name": "cronjob",
   "language": "python",
   "name": "python3"
  },
  "language_info": {
   "codemirror_mode": {
    "name": "ipython",
    "version": 3
   },
   "file_extension": ".py",
   "mimetype": "text/x-python",
   "name": "python",
   "nbconvert_exporter": "python",
   "pygments_lexer": "ipython3",
   "version": "3.9.6"
  },
  "orig_nbformat": 4
 },
 "nbformat": 4,
 "nbformat_minor": 2
}
